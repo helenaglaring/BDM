{
 "cells": [
  {
   "cell_type": "markdown",
   "metadata": {},
   "source": [
    "### Dummy Classifier\n",
    "\n",
    "*Source:* \n",
    "- https://scikit-learn.org/stable/modules/generated/sklearn.dummy.DummyClassifier.html?highlight=dummy+classifier#\n",
    "- Exercise 8\n"
   ]
  },
  {
   "attachments": {},
   "cell_type": "markdown",
   "metadata": {},
   "source": [
    "**Without SMOTE**"
   ]
  },
  {
   "cell_type": "code",
   "execution_count": null,
   "metadata": {},
   "outputs": [],
   "source": [
    "# Defining a Dummy Classifier model\n",
    "dummy_clf = DummyClassifier()\n",
    "\n",
    "# Fitting the model to the training data\n",
    "dummy_clf.fit(X_train, y_train)\n",
    "\n",
    "# Predicting y, the binary class label for stroke, for the test data.\n",
    "y_dummy_clf_pred = dummy_clf.predict(X_test)\n",
    "\n",
    "# K-Fold Cross-Validation\n",
    "accuracies = cross_val_score(estimator = dummy_clf, X = X_train, y = y_train, cv = 10)   \n",
    "\n",
    "# Reporting accuracy of the dummy classifier on the training and test set.\n",
    "print(\"---------- WITHOUT SMOTE ----------\")\n",
    "print(\"Accuracy on training set: {:.3f}\".format(dummy_clf.score(X_train, y_train)))\n",
    "print(\"Accuracy on test set: {:.3f}\".format(dummy_clf.score(X_test, y_test)))\n",
    "print(\"%0.2f accuracy with a standard deviation of %0.2f\" % (accuracies.mean(), accuracies.std())) # Printing the mean and standard deviation of the test scores"
   ]
  },
  {
   "attachments": {},
   "cell_type": "markdown",
   "metadata": {},
   "source": [
    "**Interpretation:** The dummy classifier is very accurate. This can be caused be the high imbalanced dataset, where only 5% of all instances are instances of stroke (y=1). Meaning that the dummy classifier would display high accuracy, although it always predicts \"No Stroke\" (y=0)."
   ]
  },
  {
   "cell_type": "code",
   "execution_count": null,
   "metadata": {},
   "outputs": [],
   "source": [
    "# Plottting confusion matrix using actual y_test and predicted y_test data sets \n",
    "plt.figure(figsize=(4,3))\n",
    "ax = plt.subplot()\n",
    "sns.heatmap(\n",
    "    confusion_matrix(\n",
    "        y_test,\n",
    "        y_dummy_clf_pred\n",
    "    ),\n",
    "    annot=True,\n",
    "    fmt = \"d\",\n",
    "    linewidths=2\n",
    ")\n",
    "plt.xlabel(\"Predicted label\")\n",
    "plt.ylabel(\"True label\")\n",
    "plt.title(\"CONFUSION MATRIX: Dummy Classifier - Baseline Model (wo. SMOTE)\",fontsize=14)\n",
    "ax.xaxis.set_ticklabels(['No stroke', 'Stroke']); \n",
    "ax.yaxis.set_ticklabels(['No stroke', 'Stroke'])\n",
    "plt.show()"
   ]
  },
  {
   "attachments": {},
   "cell_type": "markdown",
   "metadata": {},
   "source": [
    "**Interpretation:** \"This indicates that the dummy classifier predicts y=0 every time while getting 95% accuracy due to the imbalanced target variable. We will inspect how the dummy classifier performs with the resampled balanced dataset\""
   ]
  },
  {
   "cell_type": "markdown",
   "metadata": {},
   "source": [
    "**With SMOTE**"
   ]
  },
  {
   "cell_type": "code",
   "execution_count": null,
   "metadata": {},
   "outputs": [],
   "source": [
    "# ---------- WITH SMOTE ----------\n",
    "# Defining Dummy Classifier model with the resampled dataset\n",
    "dummy_clf_res = DummyClassifier()\n",
    "\n",
    "# Fitting the model to the training data\n",
    "dummy_clf_res.fit(X_train_res, y_train_res)\n",
    "\n",
    "# Predicting y, the binary class label for stroke, for the test data.\n",
    "y_dummy_clf_pred_res = dummy_clf_res.predict(X_test)\n",
    "\n",
    "# K-Fold Cross-Validation\n",
    "accuracies_res = cross_val_score(estimator = dummy_clf_res, X = X_train_res, y = y_train_res, cv = 10)   \n",
    "\n",
    "# Reporting accuracy of the dummy classifier on the training and test set.\n",
    "print(\"---------- WITH SMOTE ----------\")\n",
    "print(\"Accuracy on training set: {:.3f}\".format(dummy_clf_res.score(X_train_res, y_train_res)))\n",
    "print(\"Accuracy on test set: {:.3f}\".format(dummy_clf_res.score(X_test, y_test)))\n",
    "print(\"%0.2f accuracy with a standard deviation of %0.2f\" % (accuracies_res.mean(), accuracies_res.std())) # Printing the mean and standard deviation of the test scores"
   ]
  },
  {
   "cell_type": "code",
   "execution_count": null,
   "metadata": {},
   "outputs": [],
   "source": [
    "# Plottting confusion matrix using actual y_test and predicted y_test data sets \n",
    "plt.figure(figsize=(4,3))\n",
    "ax = plt.subplot()\n",
    "sns.heatmap(\n",
    "    confusion_matrix(\n",
    "        y_test,\n",
    "        y_dummy_clf_pred_res\n",
    "    ),\n",
    "    annot=True,\n",
    "    fmt = \"d\",\n",
    "    linewidths=2\n",
    ")\n",
    "plt.xlabel(\"Predicted label\")\n",
    "plt.ylabel(\"True label\")\n",
    "plt.title(\"CONFUSION MATRIX: Dummy Classifier - Baseline Model (w. SMOTE)\",fontsize=14)\n",
    "ax.xaxis.set_ticklabels(['No stroke', 'Stroke']); \n",
    "ax.yaxis.set_ticklabels(['No stroke', 'Stroke'])\n",
    "plt.show()"
   ]
  },
  {
   "cell_type": "markdown",
   "metadata": {},
   "source": [
    "**Interpretation:** This score looks better and more realistic after using the balanced dataset."
   ]
  }
 ],
 "metadata": {
  "kernelspec": {
   "display_name": "Python 3",
   "language": "python",
   "name": "python3"
  },
  "language_info": {
   "name": "python",
   "version": "3.9.7 (default, Sep  3 2021, 12:45:31) \n[Clang 12.0.0 (clang-1200.0.32.29)]"
  },
  "orig_nbformat": 4,
  "vscode": {
   "interpreter": {
    "hash": "aee8b7b246df8f9039afb4144a1f6fd8d2ca17a180786b69acc140d282b71a49"
   }
  }
 },
 "nbformat": 4,
 "nbformat_minor": 2
}
